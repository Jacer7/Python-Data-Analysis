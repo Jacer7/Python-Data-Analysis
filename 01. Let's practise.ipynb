{
 "cells": [
  {
   "cell_type": "code",
   "execution_count": 4,
   "metadata": {},
   "outputs": [
    {
     "name": "stdout",
     "output_type": "stream",
     "text": [
      "Hello Jupyter !\n"
     ]
    }
   ],
   "source": [
    "print (\"Hello Jupyter !\")"
   ]
  },
  {
   "cell_type": "code",
   "execution_count": 5,
   "metadata": {},
   "outputs": [
    {
     "name": "stdout",
     "output_type": "stream",
     "text": [
      "H\n",
      "e\n",
      "l\n",
      "l\n",
      "o\n",
      " \n",
      "J\n",
      "u\n",
      "p\n",
      "y\n",
      "t\n",
      "e\n",
      "r\n"
     ]
    }
   ],
   "source": [
    "for letter in \"Hello Jupyter\":\n",
    "    print(letter)"
   ]
  },
  {
   "cell_type": "markdown",
   "metadata": {},
   "source": [
    "**Personal Portfolio** in https://jacer7.github.io\n",
    "* A formula $\\sqrt(1+x)$"
   ]
  },
  {
   "cell_type": "markdown",
   "metadata": {},
   "source": [
    "# Warm Up with Python"
   ]
  },
  {
   "cell_type": "code",
   "execution_count": 6,
   "metadata": {},
   "outputs": [],
   "source": [
    "import math\n",
    "import collections\n",
    "\n",
    "import numpy as np\n",
    "import pandas as pd\n",
    "import matplotlib.pyplot as pp\n",
    "%matplotlib inline"
   ]
  },
  {
   "cell_type": "code",
   "execution_count": 7,
   "metadata": {},
   "outputs": [
    {
     "name": "stdout",
     "output_type": "stream",
     "text": [
      "0\n",
      "1\n",
      "2\n",
      "3\n",
      "4\n",
      "5\n",
      "6\n",
      "7\n",
      "8\n",
      "9\n"
     ]
    }
   ],
   "source": [
    "for i in range (0, 10):\n",
    "    print(i)"
   ]
  },
  {
   "cell_type": "code",
   "execution_count": 9,
   "metadata": {},
   "outputs": [
    {
     "name": "stdout",
     "output_type": "stream",
     "text": [
      "0\n",
      "1\n",
      "2\n",
      "3\n",
      "4\n"
     ]
    }
   ],
   "source": [
    "for i in range(5):\n",
    "    print(i)"
   ]
  },
  {
   "cell_type": "code",
   "execution_count": 2,
   "metadata": {},
   "outputs": [
    {
     "name": "stdout",
     "output_type": "stream",
     "text": [
      "0\n",
      "2\n",
      "4\n",
      "6\n",
      "8\n"
     ]
    }
   ],
   "source": [
    "for i in range (0,10,2):\n",
    "    print(i)"
   ]
  },
  {
   "cell_type": "code",
   "execution_count": 9,
   "metadata": {},
   "outputs": [],
   "source": [
    "combinations = []\n",
    "for count_100 in range(1+1):\n",
    "    for count_50 in range(2+1):\n",
    "        for count_25 in range(4+1):\n",
    "            for count_10 in range(10+1):\n",
    "                for count_5 in range(20+1):\n",
    "                    for count_1 in range(100+1):\n",
    "                        if 100*count_100 + 50*count_50 + 25*count_25 + 10*count_10 + 5*count_5 + 1*count_1 == 100:\n",
    "                            combinations.append([count_100, count_50 , count_25, count_10, count_5, count_1])\n",
    "    "
   ]
  },
  {
   "cell_type": "code",
   "execution_count": 21,
   "metadata": {},
   "outputs": [
    {
     "data": {
      "text/plain": [
       "[[0, 0, 0, 0, 0, 100],\n",
       " [0, 0, 0, 0, 1, 95],\n",
       " [0, 0, 0, 0, 2, 90],\n",
       " [0, 0, 0, 0, 3, 85],\n",
       " [0, 0, 0, 0, 4, 80],\n",
       " [0, 0, 0, 0, 5, 75],\n",
       " [0, 0, 0, 0, 6, 70],\n",
       " [0, 0, 0, 0, 7, 65],\n",
       " [0, 0, 0, 0, 8, 60],\n",
       " [0, 0, 0, 0, 9, 55],\n",
       " [0, 0, 0, 0, 10, 50],\n",
       " [0, 0, 0, 0, 11, 45],\n",
       " [0, 0, 0, 0, 12, 40],\n",
       " [0, 0, 0, 0, 13, 35],\n",
       " [0, 0, 0, 0, 14, 30],\n",
       " [0, 0, 0, 0, 15, 25],\n",
       " [0, 0, 0, 0, 16, 20],\n",
       " [0, 0, 0, 0, 17, 15],\n",
       " [0, 0, 0, 0, 18, 10],\n",
       " [0, 0, 0, 0, 19, 5],\n",
       " [0, 0, 0, 0, 20, 0],\n",
       " [0, 0, 0, 1, 0, 90],\n",
       " [0, 0, 0, 1, 1, 85],\n",
       " [0, 0, 0, 1, 2, 80],\n",
       " [0, 0, 0, 1, 3, 75],\n",
       " [0, 0, 0, 1, 4, 70],\n",
       " [0, 0, 0, 1, 5, 65],\n",
       " [0, 0, 0, 1, 6, 60],\n",
       " [0, 0, 0, 1, 7, 55],\n",
       " [0, 0, 0, 1, 8, 50],\n",
       " [0, 0, 0, 1, 9, 45],\n",
       " [0, 0, 0, 1, 10, 40],\n",
       " [0, 0, 0, 1, 11, 35],\n",
       " [0, 0, 0, 1, 12, 30],\n",
       " [0, 0, 0, 1, 13, 25],\n",
       " [0, 0, 0, 1, 14, 20],\n",
       " [0, 0, 0, 1, 15, 15],\n",
       " [0, 0, 0, 1, 16, 10],\n",
       " [0, 0, 0, 1, 17, 5],\n",
       " [0, 0, 0, 1, 18, 0],\n",
       " [0, 0, 0, 2, 0, 80],\n",
       " [0, 0, 0, 2, 1, 75],\n",
       " [0, 0, 0, 2, 2, 70],\n",
       " [0, 0, 0, 2, 3, 65],\n",
       " [0, 0, 0, 2, 4, 60],\n",
       " [0, 0, 0, 2, 5, 55],\n",
       " [0, 0, 0, 2, 6, 50],\n",
       " [0, 0, 0, 2, 7, 45],\n",
       " [0, 0, 0, 2, 8, 40],\n",
       " [0, 0, 0, 2, 9, 35],\n",
       " [0, 0, 0, 2, 10, 30],\n",
       " [0, 0, 0, 2, 11, 25],\n",
       " [0, 0, 0, 2, 12, 20],\n",
       " [0, 0, 0, 2, 13, 15],\n",
       " [0, 0, 0, 2, 14, 10],\n",
       " [0, 0, 0, 2, 15, 5],\n",
       " [0, 0, 0, 2, 16, 0],\n",
       " [0, 0, 0, 3, 0, 70],\n",
       " [0, 0, 0, 3, 1, 65],\n",
       " [0, 0, 0, 3, 2, 60],\n",
       " [0, 0, 0, 3, 3, 55],\n",
       " [0, 0, 0, 3, 4, 50],\n",
       " [0, 0, 0, 3, 5, 45],\n",
       " [0, 0, 0, 3, 6, 40],\n",
       " [0, 0, 0, 3, 7, 35],\n",
       " [0, 0, 0, 3, 8, 30],\n",
       " [0, 0, 0, 3, 9, 25],\n",
       " [0, 0, 0, 3, 10, 20],\n",
       " [0, 0, 0, 3, 11, 15],\n",
       " [0, 0, 0, 3, 12, 10],\n",
       " [0, 0, 0, 3, 13, 5],\n",
       " [0, 0, 0, 3, 14, 0],\n",
       " [0, 0, 0, 4, 0, 60],\n",
       " [0, 0, 0, 4, 1, 55],\n",
       " [0, 0, 0, 4, 2, 50],\n",
       " [0, 0, 0, 4, 3, 45],\n",
       " [0, 0, 0, 4, 4, 40],\n",
       " [0, 0, 0, 4, 5, 35],\n",
       " [0, 0, 0, 4, 6, 30],\n",
       " [0, 0, 0, 4, 7, 25],\n",
       " [0, 0, 0, 4, 8, 20],\n",
       " [0, 0, 0, 4, 9, 15],\n",
       " [0, 0, 0, 4, 10, 10],\n",
       " [0, 0, 0, 4, 11, 5],\n",
       " [0, 0, 0, 4, 12, 0],\n",
       " [0, 0, 0, 5, 0, 50],\n",
       " [0, 0, 0, 5, 1, 45],\n",
       " [0, 0, 0, 5, 2, 40],\n",
       " [0, 0, 0, 5, 3, 35],\n",
       " [0, 0, 0, 5, 4, 30],\n",
       " [0, 0, 0, 5, 5, 25],\n",
       " [0, 0, 0, 5, 6, 20],\n",
       " [0, 0, 0, 5, 7, 15],\n",
       " [0, 0, 0, 5, 8, 10],\n",
       " [0, 0, 0, 5, 9, 5],\n",
       " [0, 0, 0, 5, 10, 0],\n",
       " [0, 0, 0, 6, 0, 40],\n",
       " [0, 0, 0, 6, 1, 35],\n",
       " [0, 0, 0, 6, 2, 30],\n",
       " [0, 0, 0, 6, 3, 25],\n",
       " [0, 0, 0, 6, 4, 20],\n",
       " [0, 0, 0, 6, 5, 15],\n",
       " [0, 0, 0, 6, 6, 10],\n",
       " [0, 0, 0, 6, 7, 5],\n",
       " [0, 0, 0, 6, 8, 0],\n",
       " [0, 0, 0, 7, 0, 30],\n",
       " [0, 0, 0, 7, 1, 25],\n",
       " [0, 0, 0, 7, 2, 20],\n",
       " [0, 0, 0, 7, 3, 15],\n",
       " [0, 0, 0, 7, 4, 10],\n",
       " [0, 0, 0, 7, 5, 5],\n",
       " [0, 0, 0, 7, 6, 0],\n",
       " [0, 0, 0, 8, 0, 20],\n",
       " [0, 0, 0, 8, 1, 15],\n",
       " [0, 0, 0, 8, 2, 10],\n",
       " [0, 0, 0, 8, 3, 5],\n",
       " [0, 0, 0, 8, 4, 0],\n",
       " [0, 0, 0, 9, 0, 10],\n",
       " [0, 0, 0, 9, 1, 5],\n",
       " [0, 0, 0, 9, 2, 0],\n",
       " [0, 0, 0, 10, 0, 0],\n",
       " [0, 0, 1, 0, 0, 75],\n",
       " [0, 0, 1, 0, 1, 70],\n",
       " [0, 0, 1, 0, 2, 65],\n",
       " [0, 0, 1, 0, 3, 60],\n",
       " [0, 0, 1, 0, 4, 55],\n",
       " [0, 0, 1, 0, 5, 50],\n",
       " [0, 0, 1, 0, 6, 45],\n",
       " [0, 0, 1, 0, 7, 40],\n",
       " [0, 0, 1, 0, 8, 35],\n",
       " [0, 0, 1, 0, 9, 30],\n",
       " [0, 0, 1, 0, 10, 25],\n",
       " [0, 0, 1, 0, 11, 20],\n",
       " [0, 0, 1, 0, 12, 15],\n",
       " [0, 0, 1, 0, 13, 10],\n",
       " [0, 0, 1, 0, 14, 5],\n",
       " [0, 0, 1, 0, 15, 0],\n",
       " [0, 0, 1, 1, 0, 65],\n",
       " [0, 0, 1, 1, 1, 60],\n",
       " [0, 0, 1, 1, 2, 55],\n",
       " [0, 0, 1, 1, 3, 50],\n",
       " [0, 0, 1, 1, 4, 45],\n",
       " [0, 0, 1, 1, 5, 40],\n",
       " [0, 0, 1, 1, 6, 35],\n",
       " [0, 0, 1, 1, 7, 30],\n",
       " [0, 0, 1, 1, 8, 25],\n",
       " [0, 0, 1, 1, 9, 20],\n",
       " [0, 0, 1, 1, 10, 15],\n",
       " [0, 0, 1, 1, 11, 10],\n",
       " [0, 0, 1, 1, 12, 5],\n",
       " [0, 0, 1, 1, 13, 0],\n",
       " [0, 0, 1, 2, 0, 55],\n",
       " [0, 0, 1, 2, 1, 50],\n",
       " [0, 0, 1, 2, 2, 45],\n",
       " [0, 0, 1, 2, 3, 40],\n",
       " [0, 0, 1, 2, 4, 35],\n",
       " [0, 0, 1, 2, 5, 30],\n",
       " [0, 0, 1, 2, 6, 25],\n",
       " [0, 0, 1, 2, 7, 20],\n",
       " [0, 0, 1, 2, 8, 15],\n",
       " [0, 0, 1, 2, 9, 10],\n",
       " [0, 0, 1, 2, 10, 5],\n",
       " [0, 0, 1, 2, 11, 0],\n",
       " [0, 0, 1, 3, 0, 45],\n",
       " [0, 0, 1, 3, 1, 40],\n",
       " [0, 0, 1, 3, 2, 35],\n",
       " [0, 0, 1, 3, 3, 30],\n",
       " [0, 0, 1, 3, 4, 25],\n",
       " [0, 0, 1, 3, 5, 20],\n",
       " [0, 0, 1, 3, 6, 15],\n",
       " [0, 0, 1, 3, 7, 10],\n",
       " [0, 0, 1, 3, 8, 5],\n",
       " [0, 0, 1, 3, 9, 0],\n",
       " [0, 0, 1, 4, 0, 35],\n",
       " [0, 0, 1, 4, 1, 30],\n",
       " [0, 0, 1, 4, 2, 25],\n",
       " [0, 0, 1, 4, 3, 20],\n",
       " [0, 0, 1, 4, 4, 15],\n",
       " [0, 0, 1, 4, 5, 10],\n",
       " [0, 0, 1, 4, 6, 5],\n",
       " [0, 0, 1, 4, 7, 0],\n",
       " [0, 0, 1, 5, 0, 25],\n",
       " [0, 0, 1, 5, 1, 20],\n",
       " [0, 0, 1, 5, 2, 15],\n",
       " [0, 0, 1, 5, 3, 10],\n",
       " [0, 0, 1, 5, 4, 5],\n",
       " [0, 0, 1, 5, 5, 0],\n",
       " [0, 0, 1, 6, 0, 15],\n",
       " [0, 0, 1, 6, 1, 10],\n",
       " [0, 0, 1, 6, 2, 5],\n",
       " [0, 0, 1, 6, 3, 0],\n",
       " [0, 0, 1, 7, 0, 5],\n",
       " [0, 0, 1, 7, 1, 0],\n",
       " [0, 0, 2, 0, 0, 50],\n",
       " [0, 0, 2, 0, 1, 45],\n",
       " [0, 0, 2, 0, 2, 40],\n",
       " [0, 0, 2, 0, 3, 35],\n",
       " [0, 0, 2, 0, 4, 30],\n",
       " [0, 0, 2, 0, 5, 25],\n",
       " [0, 0, 2, 0, 6, 20],\n",
       " [0, 0, 2, 0, 7, 15],\n",
       " [0, 0, 2, 0, 8, 10],\n",
       " [0, 0, 2, 0, 9, 5],\n",
       " [0, 0, 2, 0, 10, 0],\n",
       " [0, 0, 2, 1, 0, 40],\n",
       " [0, 0, 2, 1, 1, 35],\n",
       " [0, 0, 2, 1, 2, 30],\n",
       " [0, 0, 2, 1, 3, 25],\n",
       " [0, 0, 2, 1, 4, 20],\n",
       " [0, 0, 2, 1, 5, 15],\n",
       " [0, 0, 2, 1, 6, 10],\n",
       " [0, 0, 2, 1, 7, 5],\n",
       " [0, 0, 2, 1, 8, 0],\n",
       " [0, 0, 2, 2, 0, 30],\n",
       " [0, 0, 2, 2, 1, 25],\n",
       " [0, 0, 2, 2, 2, 20],\n",
       " [0, 0, 2, 2, 3, 15],\n",
       " [0, 0, 2, 2, 4, 10],\n",
       " [0, 0, 2, 2, 5, 5],\n",
       " [0, 0, 2, 2, 6, 0],\n",
       " [0, 0, 2, 3, 0, 20],\n",
       " [0, 0, 2, 3, 1, 15],\n",
       " [0, 0, 2, 3, 2, 10],\n",
       " [0, 0, 2, 3, 3, 5],\n",
       " [0, 0, 2, 3, 4, 0],\n",
       " [0, 0, 2, 4, 0, 10],\n",
       " [0, 0, 2, 4, 1, 5],\n",
       " [0, 0, 2, 4, 2, 0],\n",
       " [0, 0, 2, 5, 0, 0],\n",
       " [0, 0, 3, 0, 0, 25],\n",
       " [0, 0, 3, 0, 1, 20],\n",
       " [0, 0, 3, 0, 2, 15],\n",
       " [0, 0, 3, 0, 3, 10],\n",
       " [0, 0, 3, 0, 4, 5],\n",
       " [0, 0, 3, 0, 5, 0],\n",
       " [0, 0, 3, 1, 0, 15],\n",
       " [0, 0, 3, 1, 1, 10],\n",
       " [0, 0, 3, 1, 2, 5],\n",
       " [0, 0, 3, 1, 3, 0],\n",
       " [0, 0, 3, 2, 0, 5],\n",
       " [0, 0, 3, 2, 1, 0],\n",
       " [0, 0, 4, 0, 0, 0],\n",
       " [0, 1, 0, 0, 0, 50],\n",
       " [0, 1, 0, 0, 1, 45],\n",
       " [0, 1, 0, 0, 2, 40],\n",
       " [0, 1, 0, 0, 3, 35],\n",
       " [0, 1, 0, 0, 4, 30],\n",
       " [0, 1, 0, 0, 5, 25],\n",
       " [0, 1, 0, 0, 6, 20],\n",
       " [0, 1, 0, 0, 7, 15],\n",
       " [0, 1, 0, 0, 8, 10],\n",
       " [0, 1, 0, 0, 9, 5],\n",
       " [0, 1, 0, 0, 10, 0],\n",
       " [0, 1, 0, 1, 0, 40],\n",
       " [0, 1, 0, 1, 1, 35],\n",
       " [0, 1, 0, 1, 2, 30],\n",
       " [0, 1, 0, 1, 3, 25],\n",
       " [0, 1, 0, 1, 4, 20],\n",
       " [0, 1, 0, 1, 5, 15],\n",
       " [0, 1, 0, 1, 6, 10],\n",
       " [0, 1, 0, 1, 7, 5],\n",
       " [0, 1, 0, 1, 8, 0],\n",
       " [0, 1, 0, 2, 0, 30],\n",
       " [0, 1, 0, 2, 1, 25],\n",
       " [0, 1, 0, 2, 2, 20],\n",
       " [0, 1, 0, 2, 3, 15],\n",
       " [0, 1, 0, 2, 4, 10],\n",
       " [0, 1, 0, 2, 5, 5],\n",
       " [0, 1, 0, 2, 6, 0],\n",
       " [0, 1, 0, 3, 0, 20],\n",
       " [0, 1, 0, 3, 1, 15],\n",
       " [0, 1, 0, 3, 2, 10],\n",
       " [0, 1, 0, 3, 3, 5],\n",
       " [0, 1, 0, 3, 4, 0],\n",
       " [0, 1, 0, 4, 0, 10],\n",
       " [0, 1, 0, 4, 1, 5],\n",
       " [0, 1, 0, 4, 2, 0],\n",
       " [0, 1, 0, 5, 0, 0],\n",
       " [0, 1, 1, 0, 0, 25],\n",
       " [0, 1, 1, 0, 1, 20],\n",
       " [0, 1, 1, 0, 2, 15],\n",
       " [0, 1, 1, 0, 3, 10],\n",
       " [0, 1, 1, 0, 4, 5],\n",
       " [0, 1, 1, 0, 5, 0],\n",
       " [0, 1, 1, 1, 0, 15],\n",
       " [0, 1, 1, 1, 1, 10],\n",
       " [0, 1, 1, 1, 2, 5],\n",
       " [0, 1, 1, 1, 3, 0],\n",
       " [0, 1, 1, 2, 0, 5],\n",
       " [0, 1, 1, 2, 1, 0],\n",
       " [0, 1, 2, 0, 0, 0],\n",
       " [0, 2, 0, 0, 0, 0],\n",
       " [1, 0, 0, 0, 0, 0]]"
      ]
     },
     "execution_count": 21,
     "metadata": {},
     "output_type": "execute_result"
    }
   ],
   "source": [
    "combinations"
   ]
  },
  {
   "cell_type": "code",
   "execution_count": 11,
   "metadata": {},
   "outputs": [
    {
     "data": {
      "text/plain": [
       "293"
      ]
     },
     "execution_count": 11,
     "metadata": {},
     "output_type": "execute_result"
    }
   ],
   "source": [
    "len(combinations)"
   ]
  },
  {
   "cell_type": "code",
   "execution_count": 12,
   "metadata": {},
   "outputs": [
    {
     "name": "stdout",
     "output_type": "stream",
     "text": [
      "0\n",
      "1\n",
      "2\n",
      "3\n",
      "4\n"
     ]
    }
   ],
   "source": [
    "for count_25 in range(4+1):\n",
    "    print(count_25)"
   ]
  },
  {
   "cell_type": "code",
   "execution_count": 17,
   "metadata": {},
   "outputs": [
    {
     "name": "stdout",
     "output_type": "stream",
     "text": [
      "0\n",
      "25\n",
      "50\n",
      "75\n",
      "100\n"
     ]
    }
   ],
   "source": [
    "for amount_25 in range(0,100+1,25):\n",
    "    print(amount_25)"
   ]
  },
  {
   "cell_type": "code",
   "execution_count": 24,
   "metadata": {},
   "outputs": [],
   "source": [
    "combinations_amount = []\n",
    "for amount_100 in range(0, 100+1, 100):\n",
    "    for amount_50 in range(0, 100+1, 50):\n",
    "        for amount_25 in range(0, 100+1, 25):\n",
    "            for amount_10 in range(0, 100+1, 10):\n",
    "                for amount_5 in range(0, 100+1, 5):\n",
    "                    for amount_1 in range(0, 100+1, 1):\n",
    "                        total = amount_100 + amount_50 + amount_25+ amount_10 + amount_5 + amount_1\n",
    "                        \n",
    "                        if total ==100:\n",
    "                            combinations_amount.append([amount_100, amount_50, amount_25, amount_10, amount_5, amount_1])"
   ]
  },
  {
   "cell_type": "code",
   "execution_count": 26,
   "metadata": {},
   "outputs": [
    {
     "data": {
      "text/plain": [
       "[[0, 0, 0, 0, 0, 100],\n",
       " [0, 0, 0, 0, 5, 95],\n",
       " [0, 0, 0, 0, 10, 90],\n",
       " [0, 0, 0, 0, 15, 85],\n",
       " [0, 0, 0, 0, 20, 80],\n",
       " [0, 0, 0, 0, 25, 75],\n",
       " [0, 0, 0, 0, 30, 70],\n",
       " [0, 0, 0, 0, 35, 65],\n",
       " [0, 0, 0, 0, 40, 60],\n",
       " [0, 0, 0, 0, 45, 55],\n",
       " [0, 0, 0, 0, 50, 50],\n",
       " [0, 0, 0, 0, 55, 45],\n",
       " [0, 0, 0, 0, 60, 40],\n",
       " [0, 0, 0, 0, 65, 35],\n",
       " [0, 0, 0, 0, 70, 30],\n",
       " [0, 0, 0, 0, 75, 25],\n",
       " [0, 0, 0, 0, 80, 20],\n",
       " [0, 0, 0, 0, 85, 15],\n",
       " [0, 0, 0, 0, 90, 10],\n",
       " [0, 0, 0, 0, 95, 5],\n",
       " [0, 0, 0, 0, 100, 0],\n",
       " [0, 0, 0, 10, 0, 90],\n",
       " [0, 0, 0, 10, 5, 85],\n",
       " [0, 0, 0, 10, 10, 80],\n",
       " [0, 0, 0, 10, 15, 75],\n",
       " [0, 0, 0, 10, 20, 70],\n",
       " [0, 0, 0, 10, 25, 65],\n",
       " [0, 0, 0, 10, 30, 60],\n",
       " [0, 0, 0, 10, 35, 55],\n",
       " [0, 0, 0, 10, 40, 50],\n",
       " [0, 0, 0, 10, 45, 45],\n",
       " [0, 0, 0, 10, 50, 40],\n",
       " [0, 0, 0, 10, 55, 35],\n",
       " [0, 0, 0, 10, 60, 30],\n",
       " [0, 0, 0, 10, 65, 25],\n",
       " [0, 0, 0, 10, 70, 20],\n",
       " [0, 0, 0, 10, 75, 15],\n",
       " [0, 0, 0, 10, 80, 10],\n",
       " [0, 0, 0, 10, 85, 5],\n",
       " [0, 0, 0, 10, 90, 0],\n",
       " [0, 0, 0, 20, 0, 80],\n",
       " [0, 0, 0, 20, 5, 75],\n",
       " [0, 0, 0, 20, 10, 70],\n",
       " [0, 0, 0, 20, 15, 65],\n",
       " [0, 0, 0, 20, 20, 60],\n",
       " [0, 0, 0, 20, 25, 55],\n",
       " [0, 0, 0, 20, 30, 50],\n",
       " [0, 0, 0, 20, 35, 45],\n",
       " [0, 0, 0, 20, 40, 40],\n",
       " [0, 0, 0, 20, 45, 35],\n",
       " [0, 0, 0, 20, 50, 30],\n",
       " [0, 0, 0, 20, 55, 25],\n",
       " [0, 0, 0, 20, 60, 20],\n",
       " [0, 0, 0, 20, 65, 15],\n",
       " [0, 0, 0, 20, 70, 10],\n",
       " [0, 0, 0, 20, 75, 5],\n",
       " [0, 0, 0, 20, 80, 0],\n",
       " [0, 0, 0, 30, 0, 70],\n",
       " [0, 0, 0, 30, 5, 65],\n",
       " [0, 0, 0, 30, 10, 60],\n",
       " [0, 0, 0, 30, 15, 55],\n",
       " [0, 0, 0, 30, 20, 50],\n",
       " [0, 0, 0, 30, 25, 45],\n",
       " [0, 0, 0, 30, 30, 40],\n",
       " [0, 0, 0, 30, 35, 35],\n",
       " [0, 0, 0, 30, 40, 30],\n",
       " [0, 0, 0, 30, 45, 25],\n",
       " [0, 0, 0, 30, 50, 20],\n",
       " [0, 0, 0, 30, 55, 15],\n",
       " [0, 0, 0, 30, 60, 10],\n",
       " [0, 0, 0, 30, 65, 5],\n",
       " [0, 0, 0, 30, 70, 0],\n",
       " [0, 0, 0, 40, 0, 60],\n",
       " [0, 0, 0, 40, 5, 55],\n",
       " [0, 0, 0, 40, 10, 50],\n",
       " [0, 0, 0, 40, 15, 45],\n",
       " [0, 0, 0, 40, 20, 40],\n",
       " [0, 0, 0, 40, 25, 35],\n",
       " [0, 0, 0, 40, 30, 30],\n",
       " [0, 0, 0, 40, 35, 25],\n",
       " [0, 0, 0, 40, 40, 20],\n",
       " [0, 0, 0, 40, 45, 15],\n",
       " [0, 0, 0, 40, 50, 10],\n",
       " [0, 0, 0, 40, 55, 5],\n",
       " [0, 0, 0, 40, 60, 0],\n",
       " [0, 0, 0, 50, 0, 50],\n",
       " [0, 0, 0, 50, 5, 45],\n",
       " [0, 0, 0, 50, 10, 40],\n",
       " [0, 0, 0, 50, 15, 35],\n",
       " [0, 0, 0, 50, 20, 30],\n",
       " [0, 0, 0, 50, 25, 25],\n",
       " [0, 0, 0, 50, 30, 20],\n",
       " [0, 0, 0, 50, 35, 15],\n",
       " [0, 0, 0, 50, 40, 10],\n",
       " [0, 0, 0, 50, 45, 5],\n",
       " [0, 0, 0, 50, 50, 0],\n",
       " [0, 0, 0, 60, 0, 40],\n",
       " [0, 0, 0, 60, 5, 35],\n",
       " [0, 0, 0, 60, 10, 30],\n",
       " [0, 0, 0, 60, 15, 25],\n",
       " [0, 0, 0, 60, 20, 20],\n",
       " [0, 0, 0, 60, 25, 15],\n",
       " [0, 0, 0, 60, 30, 10],\n",
       " [0, 0, 0, 60, 35, 5],\n",
       " [0, 0, 0, 60, 40, 0],\n",
       " [0, 0, 0, 70, 0, 30],\n",
       " [0, 0, 0, 70, 5, 25],\n",
       " [0, 0, 0, 70, 10, 20],\n",
       " [0, 0, 0, 70, 15, 15],\n",
       " [0, 0, 0, 70, 20, 10],\n",
       " [0, 0, 0, 70, 25, 5],\n",
       " [0, 0, 0, 70, 30, 0],\n",
       " [0, 0, 0, 80, 0, 20],\n",
       " [0, 0, 0, 80, 5, 15],\n",
       " [0, 0, 0, 80, 10, 10],\n",
       " [0, 0, 0, 80, 15, 5],\n",
       " [0, 0, 0, 80, 20, 0],\n",
       " [0, 0, 0, 90, 0, 10],\n",
       " [0, 0, 0, 90, 5, 5],\n",
       " [0, 0, 0, 90, 10, 0],\n",
       " [0, 0, 0, 100, 0, 0],\n",
       " [0, 0, 25, 0, 0, 75],\n",
       " [0, 0, 25, 0, 5, 70],\n",
       " [0, 0, 25, 0, 10, 65],\n",
       " [0, 0, 25, 0, 15, 60],\n",
       " [0, 0, 25, 0, 20, 55],\n",
       " [0, 0, 25, 0, 25, 50],\n",
       " [0, 0, 25, 0, 30, 45],\n",
       " [0, 0, 25, 0, 35, 40],\n",
       " [0, 0, 25, 0, 40, 35],\n",
       " [0, 0, 25, 0, 45, 30],\n",
       " [0, 0, 25, 0, 50, 25],\n",
       " [0, 0, 25, 0, 55, 20],\n",
       " [0, 0, 25, 0, 60, 15],\n",
       " [0, 0, 25, 0, 65, 10],\n",
       " [0, 0, 25, 0, 70, 5],\n",
       " [0, 0, 25, 0, 75, 0],\n",
       " [0, 0, 25, 10, 0, 65],\n",
       " [0, 0, 25, 10, 5, 60],\n",
       " [0, 0, 25, 10, 10, 55],\n",
       " [0, 0, 25, 10, 15, 50],\n",
       " [0, 0, 25, 10, 20, 45],\n",
       " [0, 0, 25, 10, 25, 40],\n",
       " [0, 0, 25, 10, 30, 35],\n",
       " [0, 0, 25, 10, 35, 30],\n",
       " [0, 0, 25, 10, 40, 25],\n",
       " [0, 0, 25, 10, 45, 20],\n",
       " [0, 0, 25, 10, 50, 15],\n",
       " [0, 0, 25, 10, 55, 10],\n",
       " [0, 0, 25, 10, 60, 5],\n",
       " [0, 0, 25, 10, 65, 0],\n",
       " [0, 0, 25, 20, 0, 55],\n",
       " [0, 0, 25, 20, 5, 50],\n",
       " [0, 0, 25, 20, 10, 45],\n",
       " [0, 0, 25, 20, 15, 40],\n",
       " [0, 0, 25, 20, 20, 35],\n",
       " [0, 0, 25, 20, 25, 30],\n",
       " [0, 0, 25, 20, 30, 25],\n",
       " [0, 0, 25, 20, 35, 20],\n",
       " [0, 0, 25, 20, 40, 15],\n",
       " [0, 0, 25, 20, 45, 10],\n",
       " [0, 0, 25, 20, 50, 5],\n",
       " [0, 0, 25, 20, 55, 0],\n",
       " [0, 0, 25, 30, 0, 45],\n",
       " [0, 0, 25, 30, 5, 40],\n",
       " [0, 0, 25, 30, 10, 35],\n",
       " [0, 0, 25, 30, 15, 30],\n",
       " [0, 0, 25, 30, 20, 25],\n",
       " [0, 0, 25, 30, 25, 20],\n",
       " [0, 0, 25, 30, 30, 15],\n",
       " [0, 0, 25, 30, 35, 10],\n",
       " [0, 0, 25, 30, 40, 5],\n",
       " [0, 0, 25, 30, 45, 0],\n",
       " [0, 0, 25, 40, 0, 35],\n",
       " [0, 0, 25, 40, 5, 30],\n",
       " [0, 0, 25, 40, 10, 25],\n",
       " [0, 0, 25, 40, 15, 20],\n",
       " [0, 0, 25, 40, 20, 15],\n",
       " [0, 0, 25, 40, 25, 10],\n",
       " [0, 0, 25, 40, 30, 5],\n",
       " [0, 0, 25, 40, 35, 0],\n",
       " [0, 0, 25, 50, 0, 25],\n",
       " [0, 0, 25, 50, 5, 20],\n",
       " [0, 0, 25, 50, 10, 15],\n",
       " [0, 0, 25, 50, 15, 10],\n",
       " [0, 0, 25, 50, 20, 5],\n",
       " [0, 0, 25, 50, 25, 0],\n",
       " [0, 0, 25, 60, 0, 15],\n",
       " [0, 0, 25, 60, 5, 10],\n",
       " [0, 0, 25, 60, 10, 5],\n",
       " [0, 0, 25, 60, 15, 0],\n",
       " [0, 0, 25, 70, 0, 5],\n",
       " [0, 0, 25, 70, 5, 0],\n",
       " [0, 0, 50, 0, 0, 50],\n",
       " [0, 0, 50, 0, 5, 45],\n",
       " [0, 0, 50, 0, 10, 40],\n",
       " [0, 0, 50, 0, 15, 35],\n",
       " [0, 0, 50, 0, 20, 30],\n",
       " [0, 0, 50, 0, 25, 25],\n",
       " [0, 0, 50, 0, 30, 20],\n",
       " [0, 0, 50, 0, 35, 15],\n",
       " [0, 0, 50, 0, 40, 10],\n",
       " [0, 0, 50, 0, 45, 5],\n",
       " [0, 0, 50, 0, 50, 0],\n",
       " [0, 0, 50, 10, 0, 40],\n",
       " [0, 0, 50, 10, 5, 35],\n",
       " [0, 0, 50, 10, 10, 30],\n",
       " [0, 0, 50, 10, 15, 25],\n",
       " [0, 0, 50, 10, 20, 20],\n",
       " [0, 0, 50, 10, 25, 15],\n",
       " [0, 0, 50, 10, 30, 10],\n",
       " [0, 0, 50, 10, 35, 5],\n",
       " [0, 0, 50, 10, 40, 0],\n",
       " [0, 0, 50, 20, 0, 30],\n",
       " [0, 0, 50, 20, 5, 25],\n",
       " [0, 0, 50, 20, 10, 20],\n",
       " [0, 0, 50, 20, 15, 15],\n",
       " [0, 0, 50, 20, 20, 10],\n",
       " [0, 0, 50, 20, 25, 5],\n",
       " [0, 0, 50, 20, 30, 0],\n",
       " [0, 0, 50, 30, 0, 20],\n",
       " [0, 0, 50, 30, 5, 15],\n",
       " [0, 0, 50, 30, 10, 10],\n",
       " [0, 0, 50, 30, 15, 5],\n",
       " [0, 0, 50, 30, 20, 0],\n",
       " [0, 0, 50, 40, 0, 10],\n",
       " [0, 0, 50, 40, 5, 5],\n",
       " [0, 0, 50, 40, 10, 0],\n",
       " [0, 0, 50, 50, 0, 0],\n",
       " [0, 0, 75, 0, 0, 25],\n",
       " [0, 0, 75, 0, 5, 20],\n",
       " [0, 0, 75, 0, 10, 15],\n",
       " [0, 0, 75, 0, 15, 10],\n",
       " [0, 0, 75, 0, 20, 5],\n",
       " [0, 0, 75, 0, 25, 0],\n",
       " [0, 0, 75, 10, 0, 15],\n",
       " [0, 0, 75, 10, 5, 10],\n",
       " [0, 0, 75, 10, 10, 5],\n",
       " [0, 0, 75, 10, 15, 0],\n",
       " [0, 0, 75, 20, 0, 5],\n",
       " [0, 0, 75, 20, 5, 0],\n",
       " [0, 0, 100, 0, 0, 0],\n",
       " [0, 50, 0, 0, 0, 50],\n",
       " [0, 50, 0, 0, 5, 45],\n",
       " [0, 50, 0, 0, 10, 40],\n",
       " [0, 50, 0, 0, 15, 35],\n",
       " [0, 50, 0, 0, 20, 30],\n",
       " [0, 50, 0, 0, 25, 25],\n",
       " [0, 50, 0, 0, 30, 20],\n",
       " [0, 50, 0, 0, 35, 15],\n",
       " [0, 50, 0, 0, 40, 10],\n",
       " [0, 50, 0, 0, 45, 5],\n",
       " [0, 50, 0, 0, 50, 0],\n",
       " [0, 50, 0, 10, 0, 40],\n",
       " [0, 50, 0, 10, 5, 35],\n",
       " [0, 50, 0, 10, 10, 30],\n",
       " [0, 50, 0, 10, 15, 25],\n",
       " [0, 50, 0, 10, 20, 20],\n",
       " [0, 50, 0, 10, 25, 15],\n",
       " [0, 50, 0, 10, 30, 10],\n",
       " [0, 50, 0, 10, 35, 5],\n",
       " [0, 50, 0, 10, 40, 0],\n",
       " [0, 50, 0, 20, 0, 30],\n",
       " [0, 50, 0, 20, 5, 25],\n",
       " [0, 50, 0, 20, 10, 20],\n",
       " [0, 50, 0, 20, 15, 15],\n",
       " [0, 50, 0, 20, 20, 10],\n",
       " [0, 50, 0, 20, 25, 5],\n",
       " [0, 50, 0, 20, 30, 0],\n",
       " [0, 50, 0, 30, 0, 20],\n",
       " [0, 50, 0, 30, 5, 15],\n",
       " [0, 50, 0, 30, 10, 10],\n",
       " [0, 50, 0, 30, 15, 5],\n",
       " [0, 50, 0, 30, 20, 0],\n",
       " [0, 50, 0, 40, 0, 10],\n",
       " [0, 50, 0, 40, 5, 5],\n",
       " [0, 50, 0, 40, 10, 0],\n",
       " [0, 50, 0, 50, 0, 0],\n",
       " [0, 50, 25, 0, 0, 25],\n",
       " [0, 50, 25, 0, 5, 20],\n",
       " [0, 50, 25, 0, 10, 15],\n",
       " [0, 50, 25, 0, 15, 10],\n",
       " [0, 50, 25, 0, 20, 5],\n",
       " [0, 50, 25, 0, 25, 0],\n",
       " [0, 50, 25, 10, 0, 15],\n",
       " [0, 50, 25, 10, 5, 10],\n",
       " [0, 50, 25, 10, 10, 5],\n",
       " [0, 50, 25, 10, 15, 0],\n",
       " [0, 50, 25, 20, 0, 5],\n",
       " [0, 50, 25, 20, 5, 0],\n",
       " [0, 50, 50, 0, 0, 0],\n",
       " [0, 100, 0, 0, 0, 0],\n",
       " [100, 0, 0, 0, 0, 0]]"
      ]
     },
     "execution_count": 26,
     "metadata": {},
     "output_type": "execute_result"
    }
   ],
   "source": [
    "combinations_amount"
   ]
  },
  {
   "cell_type": "code",
   "execution_count": 27,
   "metadata": {},
   "outputs": [
    {
     "data": {
      "text/plain": [
       "293"
      ]
     },
     "execution_count": 27,
     "metadata": {},
     "output_type": "execute_result"
    }
   ],
   "source": [
    "len(combinations_amount)"
   ]
  },
  {
   "cell_type": "markdown",
   "metadata": {},
   "source": [
    "**List , Tuples, and the slicing syntax**\n",
    "* and using loops in List"
   ]
  },
  {
   "cell_type": "code",
   "execution_count": 66,
   "metadata": {},
   "outputs": [],
   "source": [
    "nephews = [\"Huey\" , \"Dewey\" , \"Louie\"]"
   ]
  },
  {
   "cell_type": "code",
   "execution_count": 67,
   "metadata": {},
   "outputs": [
    {
     "data": {
      "text/plain": [
       "['Huey', 'Dewey', 'Louie']"
      ]
     },
     "execution_count": 67,
     "metadata": {},
     "output_type": "execute_result"
    }
   ],
   "source": [
    "nephews"
   ]
  },
  {
   "cell_type": "code",
   "execution_count": 68,
   "metadata": {},
   "outputs": [
    {
     "data": {
      "text/plain": [
       "3"
      ]
     },
     "execution_count": 68,
     "metadata": {},
     "output_type": "execute_result"
    }
   ],
   "source": [
    "len(nephews)"
   ]
  },
  {
   "cell_type": "code",
   "execution_count": 69,
   "metadata": {},
   "outputs": [
    {
     "data": {
      "text/plain": [
       "'Huey'"
      ]
     },
     "execution_count": 69,
     "metadata": {},
     "output_type": "execute_result"
    }
   ],
   "source": [
    "nephews[0]"
   ]
  },
  {
   "cell_type": "code",
   "execution_count": 70,
   "metadata": {},
   "outputs": [
    {
     "data": {
      "text/plain": [
       "'Louie'"
      ]
     },
     "execution_count": 70,
     "metadata": {},
     "output_type": "execute_result"
    }
   ],
   "source": [
    "nephews [2]"
   ]
  },
  {
   "cell_type": "code",
   "execution_count": 72,
   "metadata": {},
   "outputs": [
    {
     "ename": "IndexError",
     "evalue": "list index out of range",
     "output_type": "error",
     "traceback": [
      "\u001b[1;31m---------------------------------------------------------------------------\u001b[0m",
      "\u001b[1;31mIndexError\u001b[0m                                Traceback (most recent call last)",
      "\u001b[1;32m<ipython-input-72-7a4d559ab06c>\u001b[0m in \u001b[0;36m<module>\u001b[1;34m\u001b[0m\n\u001b[1;32m----> 1\u001b[1;33m \u001b[0mnephews\u001b[0m \u001b[1;33m[\u001b[0m\u001b[1;36m3\u001b[0m\u001b[1;33m]\u001b[0m \u001b[1;31m# This will throw an error\u001b[0m\u001b[1;33m\u001b[0m\u001b[1;33m\u001b[0m\u001b[0m\n\u001b[0m",
      "\u001b[1;31mIndexError\u001b[0m: list index out of range"
     ]
    }
   ],
   "source": [
    "nephews [3] # This will throw an error"
   ]
  },
  {
   "cell_type": "code",
   "execution_count": 73,
   "metadata": {},
   "outputs": [
    {
     "data": {
      "text/plain": [
       "('Louie', 'Dewey')"
      ]
     },
     "execution_count": 73,
     "metadata": {},
     "output_type": "execute_result"
    }
   ],
   "source": [
    "nephews [-1] , nephews [-2]"
   ]
  },
  {
   "cell_type": "markdown",
   "metadata": {},
   "source": [
    "* **loop in a list**"
   ]
  },
  {
   "cell_type": "code",
   "execution_count": 102,
   "metadata": {},
   "outputs": [],
   "source": [
    "nephews = [\"Huey\" , \"Dewey\", \"louie\"]\n",
    "for i in range(3):\n",
    "    nephews [i] = nephews [i] + ' Duck' # concanate the Duck to all list"
   ]
  },
  {
   "cell_type": "code",
   "execution_count": 103,
   "metadata": {},
   "outputs": [
    {
     "data": {
      "text/plain": [
       "['Huey Duck', 'Dewey Duck', 'louie Duck']"
      ]
     },
     "execution_count": 103,
     "metadata": {},
     "output_type": "execute_result"
    }
   ],
   "source": [
    "nephews"
   ]
  },
  {
   "cell_type": "code",
   "execution_count": 104,
   "metadata": {},
   "outputs": [],
   "source": [
    "nephews.append('April Duck')"
   ]
  },
  {
   "cell_type": "code",
   "execution_count": 105,
   "metadata": {},
   "outputs": [
    {
     "data": {
      "text/plain": [
       "['Huey Duck', 'Dewey Duck', 'louie Duck', 'April Duck']"
      ]
     },
     "execution_count": 105,
     "metadata": {},
     "output_type": "execute_result"
    }
   ],
   "source": [
    "nephews"
   ]
  },
  {
   "cell_type": "markdown",
   "metadata": {},
   "source": [
    "* extend"
   ]
  },
  {
   "cell_type": "code",
   "execution_count": 106,
   "metadata": {},
   "outputs": [],
   "source": [
    "nephews.extend (['May Duck', 'June Duck'])"
   ]
  },
  {
   "cell_type": "code",
   "execution_count": 107,
   "metadata": {},
   "outputs": [
    {
     "data": {
      "text/plain": [
       "['Huey Duck',\n",
       " 'Dewey Duck',\n",
       " 'louie Duck',\n",
       " 'April Duck',\n",
       " 'May Duck',\n",
       " 'June Duck']"
      ]
     },
     "execution_count": 107,
     "metadata": {},
     "output_type": "execute_result"
    }
   ],
   "source": [
    "nephews"
   ]
  },
  {
   "cell_type": "markdown",
   "metadata": {},
   "source": [
    "* concanate"
   ]
  },
  {
   "cell_type": "code",
   "execution_count": 108,
   "metadata": {},
   "outputs": [],
   "source": [
    "ducks = nephews + ['Donald Duck', 'Daisy Duck']"
   ]
  },
  {
   "cell_type": "code",
   "execution_count": 109,
   "metadata": {},
   "outputs": [
    {
     "data": {
      "text/plain": [
       "['Huey Duck',\n",
       " 'Dewey Duck',\n",
       " 'louie Duck',\n",
       " 'April Duck',\n",
       " 'May Duck',\n",
       " 'June Duck',\n",
       " 'Donald Duck',\n",
       " 'Daisy Duck']"
      ]
     },
     "execution_count": 109,
     "metadata": {},
     "output_type": "execute_result"
    }
   ],
   "source": [
    "ducks"
   ]
  },
  {
   "cell_type": "code",
   "execution_count": 114,
   "metadata": {},
   "outputs": [],
   "source": [
    "ducks.insert(0, 'Scrooge McDock')"
   ]
  },
  {
   "cell_type": "code",
   "execution_count": 115,
   "metadata": {},
   "outputs": [
    {
     "data": {
      "text/plain": [
       "['Scrooge McDock',\n",
       " 'Scrooge McDock',\n",
       " 'Huey Duck',\n",
       " 'Dewey Duck',\n",
       " 'louie Duck',\n",
       " 'April Duck',\n",
       " 'May Duck',\n",
       " 'June Duck',\n",
       " 'Donald Duck',\n",
       " 'Scrooge McDock',\n",
       " 'Daisy Duck']"
      ]
     },
     "execution_count": 115,
     "metadata": {},
     "output_type": "execute_result"
    }
   ],
   "source": [
    "ducks"
   ]
  },
  {
   "cell_type": "code",
   "execution_count": 116,
   "metadata": {},
   "outputs": [],
   "source": [
    "reverse_ducks = sorted(ducks, reverse = True)"
   ]
  },
  {
   "cell_type": "code",
   "execution_count": 117,
   "metadata": {},
   "outputs": [
    {
     "data": {
      "text/plain": [
       "['Scrooge McDock',\n",
       " 'Scrooge McDock',\n",
       " 'Huey Duck',\n",
       " 'Dewey Duck',\n",
       " 'louie Duck',\n",
       " 'April Duck',\n",
       " 'May Duck',\n",
       " 'June Duck',\n",
       " 'Donald Duck',\n",
       " 'Scrooge McDock',\n",
       " 'Daisy Duck']"
      ]
     },
     "execution_count": 117,
     "metadata": {},
     "output_type": "execute_result"
    }
   ],
   "source": [
    "ducks"
   ]
  },
  {
   "cell_type": "code",
   "execution_count": 118,
   "metadata": {},
   "outputs": [
    {
     "data": {
      "text/plain": [
       "['louie Duck',\n",
       " 'Scrooge McDock',\n",
       " 'Scrooge McDock',\n",
       " 'Scrooge McDock',\n",
       " 'May Duck',\n",
       " 'June Duck',\n",
       " 'Huey Duck',\n",
       " 'Donald Duck',\n",
       " 'Dewey Duck',\n",
       " 'Daisy Duck',\n",
       " 'April Duck']"
      ]
     },
     "execution_count": 118,
     "metadata": {},
     "output_type": "execute_result"
    }
   ],
   "source": [
    "reverse_ducks"
   ]
  },
  {
   "cell_type": "markdown",
   "metadata": {},
   "source": [
    "## Slicing"
   ]
  },
  {
   "cell_type": "code",
   "execution_count": 121,
   "metadata": {},
   "outputs": [],
   "source": [
    "squares = [1,4,9,15,25,36,49]"
   ]
  },
  {
   "cell_type": "code",
   "execution_count": 124,
   "metadata": {},
   "outputs": [
    {
     "data": {
      "text/plain": [
       "[1, 4]"
      ]
     },
     "execution_count": 124,
     "metadata": {},
     "output_type": "execute_result"
    }
   ],
   "source": [
    "squares[0:2] # upto 2 i.e 0 and 1"
   ]
  },
  {
   "cell_type": "code",
   "execution_count": 126,
   "metadata": {},
   "outputs": [
    {
     "data": {
      "text/plain": [
       "[1, 4, 9, 15]"
      ]
     },
     "execution_count": 126,
     "metadata": {},
     "output_type": "execute_result"
    }
   ],
   "source": [
    "squares[:4] # upto 4 i.e index starting from 0-3"
   ]
  },
  {
   "cell_type": "code",
   "execution_count": 127,
   "metadata": {},
   "outputs": [
    {
     "data": {
      "text/plain": [
       "[15, 25, 36, 49]"
      ]
     },
     "execution_count": 127,
     "metadata": {},
     "output_type": "execute_result"
    }
   ],
   "source": [
    "squares[3:]"
   ]
  },
  {
   "cell_type": "code",
   "execution_count": 128,
   "metadata": {},
   "outputs": [
    {
     "data": {
      "text/plain": [
       "[1, 4, 9, 15, 25, 36, 49]"
      ]
     },
     "execution_count": 128,
     "metadata": {},
     "output_type": "execute_result"
    }
   ],
   "source": [
    "squares[:] # copy the list"
   ]
  },
  {
   "cell_type": "code",
   "execution_count": 130,
   "metadata": {},
   "outputs": [
    {
     "data": {
      "text/plain": [
       "[1, 9, 25, 49]"
      ]
     },
     "execution_count": 130,
     "metadata": {},
     "output_type": "execute_result"
    }
   ],
   "source": [
    "squares[0:7:2] # not displaying each after"
   ]
  },
  {
   "cell_type": "markdown",
   "metadata": {},
   "source": [
    "* Tuples which looks like list\n",
    "    * it is written as () not as []\n",
    "    * we do same slicing like in list but we cannot modify the elements\n",
    "    "
   ]
  },
  {
   "cell_type": "code",
   "execution_count": 132,
   "metadata": {},
   "outputs": [],
   "source": [
    "integers = ('one' , 'two', 'three', 'four')"
   ]
  },
  {
   "cell_type": "code",
   "execution_count": 133,
   "metadata": {},
   "outputs": [
    {
     "data": {
      "text/plain": [
       "('one', 'two', 'three', 'four')"
      ]
     },
     "execution_count": 133,
     "metadata": {},
     "output_type": "execute_result"
    }
   ],
   "source": [
    "integers"
   ]
  },
  {
   "cell_type": "code",
   "execution_count": 134,
   "metadata": {},
   "outputs": [],
   "source": [
    "(a, b) = (1, 2)"
   ]
  },
  {
   "cell_type": "code",
   "execution_count": 136,
   "metadata": {},
   "outputs": [
    {
     "name": "stdout",
     "output_type": "stream",
     "text": [
      "0 Scrooge McDock\n",
      "1 Scrooge McDock\n",
      "2 Huey Duck\n",
      "3 Dewey Duck\n",
      "4 louie Duck\n",
      "5 April Duck\n",
      "6 May Duck\n",
      "7 June Duck\n",
      "8 Donald Duck\n",
      "9 Scrooge McDock\n",
      "10 Daisy Duck\n"
     ]
    }
   ],
   "source": [
    "for i, duck in enumerate(ducks):\n",
    "    print(i, duck)"
   ]
  },
  {
   "cell_type": "code",
   "execution_count": 137,
   "metadata": {},
   "outputs": [],
   "source": [
    "def three_args(a, b, c):\n",
    "    print(a, b, c)"
   ]
  },
  {
   "cell_type": "code",
   "execution_count": 138,
   "metadata": {},
   "outputs": [],
   "source": [
    "my_args = (1,2,3)"
   ]
  },
  {
   "cell_type": "code",
   "execution_count": 139,
   "metadata": {},
   "outputs": [
    {
     "name": "stdout",
     "output_type": "stream",
     "text": [
      "1 2 3\n"
     ]
    }
   ],
   "source": [
    "three_args(*my_args)"
   ]
  },
  {
   "cell_type": "markdown",
   "metadata": {},
   "source": [
    "## dictionaries and sets"
   ]
  },
  {
   "cell_type": "code",
   "execution_count": 197,
   "metadata": {},
   "outputs": [],
   "source": [
    "capitals = {'United States': 'Washington DC', 'France': 'Paris', 'Italy': 'Rome'}"
   ]
  },
  {
   "cell_type": "code",
   "execution_count": 198,
   "metadata": {},
   "outputs": [
    {
     "data": {
      "text/plain": [
       "{'United States': 'Washington DC', 'France': 'Paris', 'Italy': 'Rome'}"
      ]
     },
     "execution_count": 198,
     "metadata": {},
     "output_type": "execute_result"
    }
   ],
   "source": [
    "capitals"
   ]
  },
  {
   "cell_type": "code",
   "execution_count": 199,
   "metadata": {},
   "outputs": [
    {
     "data": {
      "text/plain": [
       "'Rome'"
      ]
     },
     "execution_count": 199,
     "metadata": {},
     "output_type": "execute_result"
    }
   ],
   "source": [
    "capitals ['Italy']"
   ]
  },
  {
   "cell_type": "code",
   "execution_count": 200,
   "metadata": {},
   "outputs": [],
   "source": [
    "capitals ['Spain'] = 'Madrid' # adding new in dictionaries"
   ]
  },
  {
   "cell_type": "code",
   "execution_count": 201,
   "metadata": {},
   "outputs": [
    {
     "data": {
      "text/plain": [
       "{'United States': 'Washington DC',\n",
       " 'France': 'Paris',\n",
       " 'Italy': 'Rome',\n",
       " 'Spain': 'Madrid'}"
      ]
     },
     "execution_count": 201,
     "metadata": {},
     "output_type": "execute_result"
    }
   ],
   "source": [
    "capitals"
   ]
  },
  {
   "cell_type": "markdown",
   "metadata": {},
   "source": [
    "* Loop in dictionaries"
   ]
  },
  {
   "cell_type": "code",
   "execution_count": 202,
   "metadata": {},
   "outputs": [
    {
     "name": "stdout",
     "output_type": "stream",
     "text": [
      "United States\n",
      "France\n",
      "Italy\n",
      "Spain\n"
     ]
    }
   ],
   "source": [
    "for country in capitals.keys(): # for loop in keys\n",
    "    print(country)"
   ]
  },
  {
   "cell_type": "code",
   "execution_count": 203,
   "metadata": {},
   "outputs": [
    {
     "data": {
      "text/plain": [
       "dict_keys(['United States', 'France', 'Italy', 'Spain'])"
      ]
     },
     "execution_count": 203,
     "metadata": {},
     "output_type": "execute_result"
    }
   ],
   "source": [
    "capitals.keys()"
   ]
  },
  {
   "cell_type": "code",
   "execution_count": 204,
   "metadata": {},
   "outputs": [
    {
     "name": "stdout",
     "output_type": "stream",
     "text": [
      "Washington DC\n",
      "Paris\n",
      "Rome\n",
      "Madrid\n"
     ]
    }
   ],
   "source": [
    "for capital in capitals.values(): # for loop in items\n",
    "    print(capital)"
   ]
  },
  {
   "cell_type": "code",
   "execution_count": 205,
   "metadata": {},
   "outputs": [
    {
     "name": "stdout",
     "output_type": "stream",
     "text": [
      "United States Washington DC\n",
      "France Paris\n",
      "Italy Rome\n",
      "Spain Madrid\n"
     ]
    }
   ],
   "source": [
    "for country, capital in capitals.items():\n",
    "    print(country, capital)"
   ]
  },
  {
   "cell_type": "markdown",
   "metadata": {},
   "source": [
    "* Sets: It is like a bag with different types of data but shows one value/data it it duplicated"
   ]
  },
  {
   "cell_type": "code",
   "execution_count": 209,
   "metadata": {},
   "outputs": [],
   "source": [
    "continents = {'America', 'Europe', 'Asia', 'Oceania', 'Africa' , 'Africa'}"
   ]
  },
  {
   "cell_type": "code",
   "execution_count": 210,
   "metadata": {},
   "outputs": [
    {
     "data": {
      "text/plain": [
       "{'Africa', 'America', 'Asia', 'Europe', 'Oceania'}"
      ]
     },
     "execution_count": 210,
     "metadata": {},
     "output_type": "execute_result"
    }
   ],
   "source": [
    "continents"
   ]
  },
  {
   "cell_type": "code",
   "execution_count": 217,
   "metadata": {},
   "outputs": [],
   "source": [
    "continents.add('Antartica')"
   ]
  },
  {
   "cell_type": "code",
   "execution_count": 218,
   "metadata": {},
   "outputs": [
    {
     "data": {
      "text/plain": [
       "{'Africa', 'America', 'Antartica', 'Asia', 'Europe', 'Oceania'}"
      ]
     },
     "execution_count": 218,
     "metadata": {},
     "output_type": "execute_result"
    }
   ],
   "source": [
    "continents"
   ]
  },
  {
   "cell_type": "code",
   "execution_count": 213,
   "metadata": {},
   "outputs": [],
   "source": [
    "continents.remove('Antartica')"
   ]
  },
  {
   "cell_type": "code",
   "execution_count": 214,
   "metadata": {},
   "outputs": [
    {
     "data": {
      "text/plain": [
       "{'Africa', 'America', 'Asia', 'Europe', 'Oceania'}"
      ]
     },
     "execution_count": 214,
     "metadata": {},
     "output_type": "execute_result"
    }
   ],
   "source": [
    "continents"
   ]
  },
  {
   "cell_type": "code",
   "execution_count": 219,
   "metadata": {},
   "outputs": [
    {
     "name": "stdout",
     "output_type": "stream",
     "text": [
      "America\n",
      "Africa\n",
      "Antartica\n",
      "Asia\n",
      "Oceania\n",
      "Europe\n"
     ]
    }
   ],
   "source": [
    "for c in continents:\n",
    "    print(c)"
   ]
  },
  {
   "cell_type": "markdown",
   "metadata": {},
   "source": [
    "## Comprehension"
   ]
  },
  {
   "cell_type": "code",
   "execution_count": 247,
   "metadata": {},
   "outputs": [],
   "source": [
    "squares = [i**2 for i in range(1, 11)]"
   ]
  },
  {
   "cell_type": "code",
   "execution_count": 248,
   "metadata": {},
   "outputs": [
    {
     "data": {
      "text/plain": [
       "[1, 4, 9, 16, 25, 36, 49, 64, 81, 100]"
      ]
     },
     "execution_count": 248,
     "metadata": {},
     "output_type": "execute_result"
    }
   ],
   "source": [
    "squares"
   ]
  },
  {
   "cell_type": "code",
   "execution_count": 250,
   "metadata": {},
   "outputs": [],
   "source": [
    "sqaure_by_four = [i**2 for i in range(1, 11) if i**2 % 4 == 0 ]"
   ]
  },
  {
   "cell_type": "code",
   "execution_count": 251,
   "metadata": {},
   "outputs": [
    {
     "data": {
      "text/plain": [
       "[4, 16, 36, 64, 100]"
      ]
     },
     "execution_count": 251,
     "metadata": {},
     "output_type": "execute_result"
    }
   ],
   "source": [
    "sqaure_by_four"
   ]
  },
  {
   "cell_type": "markdown",
   "metadata": {},
   "source": [
    "* dictionaries comprehensions"
   ]
  },
  {
   "cell_type": "code",
   "execution_count": 252,
   "metadata": {},
   "outputs": [],
   "source": [
    "square_dict = {i: i**2 for i in range(1, 11)}"
   ]
  },
  {
   "cell_type": "code",
   "execution_count": 253,
   "metadata": {},
   "outputs": [
    {
     "data": {
      "text/plain": [
       "{1: 1, 2: 4, 3: 9, 4: 16, 5: 25, 6: 36, 7: 49, 8: 64, 9: 81, 10: 100}"
      ]
     },
     "execution_count": 253,
     "metadata": {},
     "output_type": "execute_result"
    }
   ],
   "source": [
    "square_dict"
   ]
  },
  {
   "cell_type": "markdown",
   "metadata": {},
   "source": [
    "* directly giving value to sum to save memory and time using comprehension"
   ]
  },
  {
   "cell_type": "code",
   "execution_count": 254,
   "metadata": {},
   "outputs": [
    {
     "data": {
      "text/plain": [
       "385"
      ]
     },
     "execution_count": 254,
     "metadata": {},
     "output_type": "execute_result"
    }
   ],
   "source": [
    "sum(i**2 for i in range(1, 11))"
   ]
  },
  {
   "cell_type": "code",
   "execution_count": 259,
   "metadata": {},
   "outputs": [],
   "source": [
    "counting = []\n",
    "for i in range(1, 11):\n",
    "    for j in range(1, i+1):\n",
    "        counting.append(j)"
   ]
  },
  {
   "cell_type": "code",
   "execution_count": 260,
   "metadata": {},
   "outputs": [
    {
     "name": "stdout",
     "output_type": "stream",
     "text": [
      "[1, 1, 2, 1, 2, 3, 1, 2, 3, 4, 1, 2, 3, 4, 5, 1, 2, 3, 4, 5, 6, 1, 2, 3, 4, 5, 6, 7, 1, 2, 3, 4, 5, 6, 7, 8, 1, 2, 3, 4, 5, 6, 7, 8, 9, 1, 2, 3, 4, 5, 6, 7, 8, 9, 10]\n"
     ]
    }
   ],
   "source": [
    "print(counting)"
   ]
  },
  {
   "cell_type": "code",
   "execution_count": 264,
   "metadata": {},
   "outputs": [],
   "source": [
    "counting = [j for i in range(1, 11) for j in range(1, i+1)]"
   ]
  },
  {
   "cell_type": "code",
   "execution_count": 265,
   "metadata": {},
   "outputs": [
    {
     "name": "stdout",
     "output_type": "stream",
     "text": [
      "[1, 1, 2, 1, 2, 3, 1, 2, 3, 4, 1, 2, 3, 4, 5, 1, 2, 3, 4, 5, 6, 1, 2, 3, 4, 5, 6, 7, 1, 2, 3, 4, 5, 6, 7, 8, 1, 2, 3, 4, 5, 6, 7, 8, 9, 1, 2, 3, 4, 5, 6, 7, 8, 9, 10]\n"
     ]
    }
   ],
   "source": [
    "print(counting)"
   ]
  },
  {
   "cell_type": "markdown",
   "metadata": {},
   "source": [
    "## Advanced Containers"
   ]
  },
  {
   "cell_type": "code",
   "execution_count": null,
   "metadata": {},
   "outputs": [],
   "source": [
    "people = [()]"
   ]
  }
 ],
 "metadata": {
  "kernelspec": {
   "display_name": "Python 3",
   "language": "python",
   "name": "python3"
  },
  "language_info": {
   "codemirror_mode": {
    "name": "ipython",
    "version": 3
   },
   "file_extension": ".py",
   "mimetype": "text/x-python",
   "name": "python",
   "nbconvert_exporter": "python",
   "pygments_lexer": "ipython3",
   "version": "3.8.5"
  },
  "toc": {
   "base_numbering": 1,
   "nav_menu": {},
   "number_sections": true,
   "sideBar": true,
   "skip_h1_title": false,
   "title_cell": "Table of Contents",
   "title_sidebar": "Contents",
   "toc_cell": false,
   "toc_position": {},
   "toc_section_display": true,
   "toc_window_display": false
  }
 },
 "nbformat": 4,
 "nbformat_minor": 4
}
